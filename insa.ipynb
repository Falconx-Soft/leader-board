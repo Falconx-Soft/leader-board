{
 "cells": [
  {
   "cell_type": "code",
   "execution_count": 7,
   "metadata": {},
   "outputs": [
    {
     "name": "stdout",
     "output_type": "stream",
     "text": [
      "https://www.instagram.com/ayesha_khan_985/\n",
      "Welcome back to Instagram. Sign in to check out what your friends **************\n"
     ]
    }
   ],
   "source": [
    "from venv import create\n",
    "from django.shortcuts import render\n",
    "import requests\n",
    "from django.http import HttpResponse\n",
    "from bs4 import BeautifulSoup\n",
    "# Create your views here.\n",
    "\n",
    "\n",
    "username = 'ayesha_khan_985'\n",
    "url = f\"https://www.instagram.com/{username}/\"\n",
    "print(url)\n",
    "r= requests.get(url)\n",
    "s = BeautifulSoup(r.text, \"html.parser\")\n",
    "tag = s.find(\"meta\",  {\"name\": \"description\"})\n",
    "text = tag.attrs[\"content\"]\n",
    "status = text.split(\"-\")[0]\n",
    "details = status.split(\",\")\n",
    "followers = details[0]\n",
    "print(followers,\"**************\")\n",
    "\t\n",
    "\t#print(status, \"\\nfollowers\", followers)\n",
    "\t# instauser = user.objects.create(username=username, followers=followers)\n",
    "\t# allusers = user.objects.all()\n",
    "\t# print(allusers)\n",
    "\t# context= {'allusers': allusers}\n",
    "\t# return render(request, 'instafeed/follower.html', context)"
   ]
  }
 ],
 "metadata": {
  "interpreter": {
   "hash": "bacc27e3d8e772267789c8cb43e9c34b2aac9263bedbcd2c290b308f660557d4"
  },
  "kernelspec": {
   "display_name": "Python 3.9.2 64-bit",
   "language": "python",
   "name": "python3"
  },
  "language_info": {
   "codemirror_mode": {
    "name": "ipython",
    "version": 3
   },
   "file_extension": ".py",
   "mimetype": "text/x-python",
   "name": "python",
   "nbconvert_exporter": "python",
   "pygments_lexer": "ipython3",
   "version": "3.9.2"
  },
  "orig_nbformat": 4
 },
 "nbformat": 4,
 "nbformat_minor": 2
}
