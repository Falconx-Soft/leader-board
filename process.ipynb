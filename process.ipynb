{
 "cells": [
  {
   "cell_type": "code",
   "execution_count": 1,
   "metadata": {},
   "outputs": [],
   "source": [
    "import time\n",
    "import math\n",
    "from bs4 import BeautifulSoup\n",
    "import csv\n",
    "import pathlib\n",
    "\n",
    "from selenium import webdriver\n",
    "from selenium.webdriver.common.by import By\n",
    "from selenium.webdriver.support.ui import WebDriverWait\n",
    "from selenium.webdriver.support import expected_conditions as EC\n",
    "from selenium.webdriver.common.keys import Keys"
   ]
  },
  {
   "cell_type": "code",
   "execution_count": 3,
   "metadata": {},
   "outputs": [
    {
     "name": "stderr",
     "output_type": "stream",
     "text": [
      "C:\\Users\\SHAN\\AppData\\Local\\Temp/ipykernel_30408/3864543144.py:10: DeprecationWarning: find_element_by_* commands are deprecated. Please use find_element() instead\n",
      "  driver.find_element_by_name(\"username\").send_keys(user_name)\n",
      "C:\\Users\\SHAN\\AppData\\Local\\Temp/ipykernel_30408/3864543144.py:11: DeprecationWarning: find_element_by_* commands are deprecated. Please use find_element() instead\n",
      "  driver.find_element_by_name(\"password\").send_keys(password)\n",
      "C:\\Users\\SHAN\\AppData\\Local\\Temp/ipykernel_30408/3864543144.py:12: DeprecationWarning: find_elements_by_* commands are deprecated. Please use find_elements() instead\n",
      "  driver.find_elements_by_tag_name(\"button\")[1].click()\n"
     ]
    }
   ],
   "source": [
    "chrome_options = webdriver.ChromeOptions()\n",
    "chrome_options.headless =  False\n",
    "driver = webdriver.Chrome( options=chrome_options)\n",
    "main_url = \"https://www.instagram.com/accounts/login/\"\n",
    "driver.get(main_url)\n",
    "\n",
    "time.sleep(4)\n",
    "user_name = \"testingdjango009@gmail.com\"\n",
    "password = \"03344227779ShAn\"\n",
    "driver.find_element_by_name(\"username\").send_keys(user_name)\n",
    "driver.find_element_by_name(\"password\").send_keys(password)   \n",
    "driver.find_elements_by_tag_name(\"button\")[1].click()\n",
    "\n",
    "WebDriverWait(driver, 30).until(EC.presence_of_element_located((By.XPATH, '//*[@id=\"react-root\"]/section/nav/div[2]/div/div/div[3]/div/div[4]/a')))\n",
    "driver.get('https://www.instagram.com/' + str(user_name))"
   ]
  },
  {
   "cell_type": "code",
   "execution_count": 11,
   "metadata": {},
   "outputs": [],
   "source": [
    "user_name = \"tayyabimran8\"\n",
    "driver.get('https://www.instagram.com/' + str(user_name))"
   ]
  },
  {
   "cell_type": "code",
   "execution_count": 12,
   "metadata": {},
   "outputs": [],
   "source": [
    "source = driver.page_source"
   ]
  },
  {
   "cell_type": "code",
   "execution_count": 13,
   "metadata": {},
   "outputs": [
    {
     "name": "stdout",
     "output_type": "stream",
     "text": [
      "['30 followers', ' 307 following', ' 0 posts – see Instagram photos and videos from Tayyab Imran (@tayyabimran8)']\n",
      "30 followers, 307 following, 0 posts – see Instagram photos and videos from Tayyab Imran (@tayyabimran8) \n",
      "followers 30 followers \n",
      "following:  307 following\n"
     ]
    }
   ],
   "source": [
    "s= BeautifulSoup(source, \"html.parser\")\n",
    "tag= s.find(\"meta\",  {\"name\" : \"description\"})\n",
    "try:\n",
    "    text= tag.attrs[\"content\"]\n",
    "except:\n",
    "        pass\n",
    "\n",
    "status= text.split(\"-\")[0]\n",
    "details = status.split(\",\")\n",
    "print(details)\n",
    "followers = details[0]\n",
    "following = details[1]\n",
    "posts = details[2]\n",
    "print(status,\"\\nfollowers\", followers,\"\\nfollowing:\",following)"
   ]
  },
  {
   "cell_type": "code",
   "execution_count": 15,
   "metadata": {},
   "outputs": [
    {
     "name": "stdout",
     "output_type": "stream",
     "text": [
      "30.0\n"
     ]
    }
   ],
   "source": [
    "\n",
    "strNumber = \"\"\n",
    "if 'm' in followers:\n",
    "\ttemp = followers.split('m')\n",
    "\tnum = float(temp[0])\n",
    "\tprint(num*1000000)\n",
    "elif 'k' in followers:\n",
    "\ttemp = followers.split('m')\n",
    "\tnum = float(temp[0])\n",
    "\tprint(num*1000)\n",
    "else:\n",
    "\ttemp = followers.split(' ')\n",
    "\tnum = float(temp[0])\n",
    "\tprint(num)"
   ]
  }
 ],
 "metadata": {
  "interpreter": {
   "hash": "bacc27e3d8e772267789c8cb43e9c34b2aac9263bedbcd2c290b308f660557d4"
  },
  "kernelspec": {
   "display_name": "Python 3 (ipykernel)",
   "language": "python",
   "name": "python3"
  },
  "language_info": {
   "codemirror_mode": {
    "name": "ipython",
    "version": 3
   },
   "file_extension": ".py",
   "mimetype": "text/x-python",
   "name": "python",
   "nbconvert_exporter": "python",
   "pygments_lexer": "ipython3",
   "version": "3.9.2"
  }
 },
 "nbformat": 4,
 "nbformat_minor": 2
}
